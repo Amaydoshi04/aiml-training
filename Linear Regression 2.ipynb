{
  "nbformat": 4,
  "nbformat_minor": 0,
  "metadata": {
    "colab": {
      "provenance": []
    },
    "kernelspec": {
      "name": "python3",
      "display_name": "Python 3"
    },
    "language_info": {
      "name": "python"
    }
  },
  "cells": [
    {
      "cell_type": "code",
      "execution_count": null,
      "metadata": {
        "id": "OBlqKC0Nn6dh"
      },
      "outputs": [],
      "source": [
        "import numpy as np\n",
        "import pandas as pd\n",
        "import matplotlib.pyplot as plt\n",
        "import seaborn as sns\n",
        "#importing important libraries"
      ]
    },
    {
      "cell_type": "code",
      "source": [
        "MLR=pd.read_csv(\"MLR_data.csv\")\n",
        "#code for reading the csv file"
      ],
      "metadata": {
        "id": "2-85Bfl8o3rM"
      },
      "execution_count": null,
      "outputs": []
    },
    {
      "cell_type": "code",
      "source": [
        "MLR.head()"
      ],
      "metadata": {
        "colab": {
          "base_uri": "https://localhost:8080/",
          "height": 206
        },
        "id": "_ofDysW5pJZi",
        "outputId": "0a682ff8-e2f9-4097-f975-fe229d4ecd1f"
      },
      "execution_count": null,
      "outputs": [
        {
          "output_type": "execute_result",
          "data": {
            "text/plain": [
              "   Year  Month  Interest_Rate  Unemployment_Rate  Stock_Index_Price\n",
              "0  2017     12           2.75                5.3               1464\n",
              "1  2017     11           2.50                5.3               1394\n",
              "2  2017     10           2.50                5.3               1357\n",
              "3  2017      9           2.50                5.3               1293\n",
              "4  2017      8           2.50                5.4               1256"
            ],
            "text/html": [
              "\n",
              "  <div id=\"df-7b6f0cf3-2685-4dae-ba01-820e0210f8e9\">\n",
              "    <div class=\"colab-df-container\">\n",
              "      <div>\n",
              "<style scoped>\n",
              "    .dataframe tbody tr th:only-of-type {\n",
              "        vertical-align: middle;\n",
              "    }\n",
              "\n",
              "    .dataframe tbody tr th {\n",
              "        vertical-align: top;\n",
              "    }\n",
              "\n",
              "    .dataframe thead th {\n",
              "        text-align: right;\n",
              "    }\n",
              "</style>\n",
              "<table border=\"1\" class=\"dataframe\">\n",
              "  <thead>\n",
              "    <tr style=\"text-align: right;\">\n",
              "      <th></th>\n",
              "      <th>Year</th>\n",
              "      <th>Month</th>\n",
              "      <th>Interest_Rate</th>\n",
              "      <th>Unemployment_Rate</th>\n",
              "      <th>Stock_Index_Price</th>\n",
              "    </tr>\n",
              "  </thead>\n",
              "  <tbody>\n",
              "    <tr>\n",
              "      <th>0</th>\n",
              "      <td>2017</td>\n",
              "      <td>12</td>\n",
              "      <td>2.75</td>\n",
              "      <td>5.3</td>\n",
              "      <td>1464</td>\n",
              "    </tr>\n",
              "    <tr>\n",
              "      <th>1</th>\n",
              "      <td>2017</td>\n",
              "      <td>11</td>\n",
              "      <td>2.50</td>\n",
              "      <td>5.3</td>\n",
              "      <td>1394</td>\n",
              "    </tr>\n",
              "    <tr>\n",
              "      <th>2</th>\n",
              "      <td>2017</td>\n",
              "      <td>10</td>\n",
              "      <td>2.50</td>\n",
              "      <td>5.3</td>\n",
              "      <td>1357</td>\n",
              "    </tr>\n",
              "    <tr>\n",
              "      <th>3</th>\n",
              "      <td>2017</td>\n",
              "      <td>9</td>\n",
              "      <td>2.50</td>\n",
              "      <td>5.3</td>\n",
              "      <td>1293</td>\n",
              "    </tr>\n",
              "    <tr>\n",
              "      <th>4</th>\n",
              "      <td>2017</td>\n",
              "      <td>8</td>\n",
              "      <td>2.50</td>\n",
              "      <td>5.4</td>\n",
              "      <td>1256</td>\n",
              "    </tr>\n",
              "  </tbody>\n",
              "</table>\n",
              "</div>\n",
              "      <button class=\"colab-df-convert\" onclick=\"convertToInteractive('df-7b6f0cf3-2685-4dae-ba01-820e0210f8e9')\"\n",
              "              title=\"Convert this dataframe to an interactive table.\"\n",
              "              style=\"display:none;\">\n",
              "        \n",
              "  <svg xmlns=\"http://www.w3.org/2000/svg\" height=\"24px\"viewBox=\"0 0 24 24\"\n",
              "       width=\"24px\">\n",
              "    <path d=\"M0 0h24v24H0V0z\" fill=\"none\"/>\n",
              "    <path d=\"M18.56 5.44l.94 2.06.94-2.06 2.06-.94-2.06-.94-.94-2.06-.94 2.06-2.06.94zm-11 1L8.5 8.5l.94-2.06 2.06-.94-2.06-.94L8.5 2.5l-.94 2.06-2.06.94zm10 10l.94 2.06.94-2.06 2.06-.94-2.06-.94-.94-2.06-.94 2.06-2.06.94z\"/><path d=\"M17.41 7.96l-1.37-1.37c-.4-.4-.92-.59-1.43-.59-.52 0-1.04.2-1.43.59L10.3 9.45l-7.72 7.72c-.78.78-.78 2.05 0 2.83L4 21.41c.39.39.9.59 1.41.59.51 0 1.02-.2 1.41-.59l7.78-7.78 2.81-2.81c.8-.78.8-2.07 0-2.86zM5.41 20L4 18.59l7.72-7.72 1.47 1.35L5.41 20z\"/>\n",
              "  </svg>\n",
              "      </button>\n",
              "      \n",
              "  <style>\n",
              "    .colab-df-container {\n",
              "      display:flex;\n",
              "      flex-wrap:wrap;\n",
              "      gap: 12px;\n",
              "    }\n",
              "\n",
              "    .colab-df-convert {\n",
              "      background-color: #E8F0FE;\n",
              "      border: none;\n",
              "      border-radius: 50%;\n",
              "      cursor: pointer;\n",
              "      display: none;\n",
              "      fill: #1967D2;\n",
              "      height: 32px;\n",
              "      padding: 0 0 0 0;\n",
              "      width: 32px;\n",
              "    }\n",
              "\n",
              "    .colab-df-convert:hover {\n",
              "      background-color: #E2EBFA;\n",
              "      box-shadow: 0px 1px 2px rgba(60, 64, 67, 0.3), 0px 1px 3px 1px rgba(60, 64, 67, 0.15);\n",
              "      fill: #174EA6;\n",
              "    }\n",
              "\n",
              "    [theme=dark] .colab-df-convert {\n",
              "      background-color: #3B4455;\n",
              "      fill: #D2E3FC;\n",
              "    }\n",
              "\n",
              "    [theme=dark] .colab-df-convert:hover {\n",
              "      background-color: #434B5C;\n",
              "      box-shadow: 0px 1px 3px 1px rgba(0, 0, 0, 0.15);\n",
              "      filter: drop-shadow(0px 1px 2px rgba(0, 0, 0, 0.3));\n",
              "      fill: #FFFFFF;\n",
              "    }\n",
              "  </style>\n",
              "\n",
              "      <script>\n",
              "        const buttonEl =\n",
              "          document.querySelector('#df-7b6f0cf3-2685-4dae-ba01-820e0210f8e9 button.colab-df-convert');\n",
              "        buttonEl.style.display =\n",
              "          google.colab.kernel.accessAllowed ? 'block' : 'none';\n",
              "\n",
              "        async function convertToInteractive(key) {\n",
              "          const element = document.querySelector('#df-7b6f0cf3-2685-4dae-ba01-820e0210f8e9');\n",
              "          const dataTable =\n",
              "            await google.colab.kernel.invokeFunction('convertToInteractive',\n",
              "                                                     [key], {});\n",
              "          if (!dataTable) return;\n",
              "\n",
              "          const docLinkHtml = 'Like what you see? Visit the ' +\n",
              "            '<a target=\"_blank\" href=https://colab.research.google.com/notebooks/data_table.ipynb>data table notebook</a>'\n",
              "            + ' to learn more about interactive tables.';\n",
              "          element.innerHTML = '';\n",
              "          dataTable['output_type'] = 'display_data';\n",
              "          await google.colab.output.renderOutput(dataTable, element);\n",
              "          const docLink = document.createElement('div');\n",
              "          docLink.innerHTML = docLinkHtml;\n",
              "          element.appendChild(docLink);\n",
              "        }\n",
              "      </script>\n",
              "    </div>\n",
              "  </div>\n",
              "  "
            ]
          },
          "metadata": {},
          "execution_count": 28
        }
      ]
    },
    {
      "cell_type": "code",
      "source": [
        "MLR.info"
      ],
      "metadata": {
        "colab": {
          "base_uri": "https://localhost:8080/"
        },
        "id": "6oMcWl5UvZzy",
        "outputId": "d213a92b-c87a-4393-a4d6-da1c1a6d620d"
      },
      "execution_count": null,
      "outputs": [
        {
          "output_type": "execute_result",
          "data": {
            "text/plain": [
              "<bound method DataFrame.info of     Year  Month  Interest_Rate  Unemployment_Rate  Stock_Index_Price\n",
              "0   2017     12           2.75                5.3               1464\n",
              "1   2017     11           2.50                5.3               1394\n",
              "2   2017     10           2.50                5.3               1357\n",
              "3   2017      9           2.50                5.3               1293\n",
              "4   2017      8           2.50                5.4               1256\n",
              "5   2017      7           2.50                5.6               1254\n",
              "6   2017      6           2.50                5.5               1234\n",
              "7   2017      5           2.25                5.5               1195\n",
              "8   2017      4           2.25                5.5               1159\n",
              "9   2017      3           2.25                5.6               1167\n",
              "10  2017      2           2.00                5.7               1130\n",
              "11  2017      1           2.00                5.9               1075\n",
              "12  2016     12           2.00                6.0               1047\n",
              "13  2016     11           1.75                5.9                965\n",
              "14  2016     10           1.75                5.8                943\n",
              "15  2016      9           1.75                6.1                958\n",
              "16  2016      8           1.75                6.2                971\n",
              "17  2016      7           1.75                6.1                949\n",
              "18  2016      6           1.75                6.1                884\n",
              "19  2016      5           1.75                6.1                866\n",
              "20  2016      4           1.75                5.9                876\n",
              "21  2016      3           1.75                6.2                822\n",
              "22  2016      2           1.75                6.2                704\n",
              "23  2016      1           1.75                6.1                719>"
            ]
          },
          "metadata": {},
          "execution_count": 32
        }
      ]
    },
    {
      "cell_type": "code",
      "source": [
        "MLR.shape"
      ],
      "metadata": {
        "id": "C5fSYoBUpQdW",
        "colab": {
          "base_uri": "https://localhost:8080/"
        },
        "outputId": "d2765cc5-dc72-42fe-9200-4a7e713187d9"
      },
      "execution_count": null,
      "outputs": [
        {
          "output_type": "execute_result",
          "data": {
            "text/plain": [
              "(24, 5)"
            ]
          },
          "metadata": {},
          "execution_count": 33
        }
      ]
    },
    {
      "cell_type": "code",
      "source": [
        "MLR.size"
      ],
      "metadata": {
        "id": "VmUz-akIpTQw",
        "colab": {
          "base_uri": "https://localhost:8080/"
        },
        "outputId": "b9c329b2-8690-4fca-80ac-345ce89d5119"
      },
      "execution_count": null,
      "outputs": [
        {
          "output_type": "execute_result",
          "data": {
            "text/plain": [
              "120"
            ]
          },
          "metadata": {},
          "execution_count": 34
        }
      ]
    },
    {
      "cell_type": "code",
      "source": [
        "plt.scatter(MLR[\"Year\"],MLR['Stock_Index_Price'])\n",
        "\n",
        "#As the year increases the stock price increases"
      ],
      "metadata": {
        "id": "7Qh6xTelpkwL",
        "colab": {
          "base_uri": "https://localhost:8080/",
          "height": 286
        },
        "outputId": "f490cdbf-34b1-4931-88a7-8966b6f9be1c"
      },
      "execution_count": null,
      "outputs": [
        {
          "output_type": "execute_result",
          "data": {
            "text/plain": [
              "<matplotlib.collections.PathCollection at 0x7f5c86a4a4c0>"
            ]
          },
          "metadata": {},
          "execution_count": 35
        },
        {
          "output_type": "display_data",
          "data": {
            "text/plain": [
              "<Figure size 432x288 with 1 Axes>"
            ],
            "image/png": "[encoded data removed]"
          },
          "metadata": {
            "needs_background": "light"
          }
        }
      ]
    },
    {
      "cell_type": "code",
      "source": [
        "plt.scatter(MLR[\"Month\"],MLR['Stock_Index_Price'])\n",
        "#Every year or 12 months the trend is almost the same\n",
        "#With Every month there is a positive trend in the stock price"
      ],
      "metadata": {
        "id": "6kq6bnXyqqCu",
        "colab": {
          "base_uri": "https://localhost:8080/",
          "height": 286
        },
        "outputId": "678cee54-f3f0-494c-b782-bc9b7982ee71"
      },
      "execution_count": null,
      "outputs": [
        {
          "output_type": "execute_result",
          "data": {
            "text/plain": [
              "<matplotlib.collections.PathCollection at 0x7f5c840df490>"
            ]
          },
          "metadata": {},
          "execution_count": 36
        },
        {
          "output_type": "display_data",
          "data": {
            "text/plain": [
              "<Figure size 432x288 with 1 Axes>"
            ],
            "image/png": "[encoded data removed]"
          },
          "metadata": {
            "needs_background": "light"
          }
        }
      ]
    },
    {
      "cell_type": "code",
      "source": [
        "plt.scatter(MLR[\"Interest_Rate\"],MLR['Stock_Index_Price'])\n",
        "plt.xlabel(\"Interest_Rate\")\n",
        "#As Interest Rate increases the stock price increases"
      ],
      "metadata": {
        "id": "V3RJc2bXt1e8",
        "colab": {
          "base_uri": "https://localhost:8080/",
          "height": 301
        },
        "outputId": "3c27c05a-7b98-40af-fc58-f28d17e37ac8"
      },
      "execution_count": null,
      "outputs": [
        {
          "output_type": "execute_result",
          "data": {
            "text/plain": [
              "Text(0.5, 0, 'Interest_Rate')"
            ]
          },
          "metadata": {},
          "execution_count": 37
        },
        {
          "output_type": "display_data",
          "data": {
            "text/plain": [
              "<Figure size 432x288 with 1 Axes>"
            ],
            "image/png": "[encoded data removed]"
          },
          "metadata": {
            "needs_background": "light"
          }
        }
      ]
    },
    {
      "cell_type": "code",
      "source": [
        "plt.scatter(MLR[\"Unemployment_Rate\"],MLR['Stock_Index_Price'])\n",
        "#As the unemployment_rate increases the stock price decreases"
      ],
      "metadata": {
        "id": "J3_5C0InuD5z",
        "colab": {
          "base_uri": "https://localhost:8080/",
          "height": 286
        },
        "outputId": "b0f832f6-cb4f-4828-eebf-9c43ae6e6eec"
      },
      "execution_count": null,
      "outputs": [
        {
          "output_type": "execute_result",
          "data": {
            "text/plain": [
              "<matplotlib.collections.PathCollection at 0x7f5c84044190>"
            ]
          },
          "metadata": {},
          "execution_count": 38
        },
        {
          "output_type": "display_data",
          "data": {
            "text/plain": [
              "<Figure size 432x288 with 1 Axes>"
            ],
            "image/png": "[encoded data removed]"
          },
          "metadata": {
            "needs_background": "light"
          }
        }
      ]
    },
    {
      "cell_type": "code",
      "source": [
        "sns.pairplot(data=MLR, hue=\"Stock_Index_Price\", palette=\"crest\")"
      ],
      "metadata": {
        "id": "OGfL1yFkr9iF",
        "colab": {
          "base_uri": "https://localhost:8080/",
          "height": 743
        },
        "outputId": "804c67cf-95b3-425b-b9a7-e2955ce4ed61"
      },
      "execution_count": null,
      "outputs": [
        {
          "output_type": "execute_result",
          "data": {
            "text/plain": [
              "<seaborn.axisgrid.PairGrid at 0x7f5c83fe20a0>"
            ]
          },
          "metadata": {},
          "execution_count": 39
        },
        {
          "output_type": "display_data",
          "data": {
            "text/plain": [
              "<Figure size 817.375x720 with 20 Axes>"
            ],
            "image/png": "[encoded data removed]"
          },
          "metadata": {
            "needs_background": "light"
          }
        }
      ]
    },
    {
      "cell_type": "code",
      "source": [
        "#IV vs IV\n",
        "plt.scatter(MLR[\"Month\"],MLR['Year'])\n",
        "#No relation between year and month"
      ],
      "metadata": {
        "id": "E74OQFDduf2S",
        "colab": {
          "base_uri": "https://localhost:8080/",
          "height": 282
        },
        "outputId": "f3c6127c-f3c1-480d-ae6c-65e1e2522b3d"
      },
      "execution_count": null,
      "outputs": [
        {
          "output_type": "execute_result",
          "data": {
            "text/plain": [
              "<matplotlib.collections.PathCollection at 0x7f5c83381fa0>"
            ]
          },
          "metadata": {},
          "execution_count": 40
        },
        {
          "output_type": "display_data",
          "data": {
            "text/plain": [
              "<Figure size 432x288 with 1 Axes>"
            ],
            "image/png": "[encoded data removed]"
          },
          "metadata": {
            "needs_background": "light"
          }
        }
      ]
    },
    {
      "cell_type": "code",
      "source": [
        "plt.scatter(MLR[\"Month\"],MLR['Interest_Rate'])\n",
        "#The interest is more in 2017 and has increased but in 2016 it was almost constant"
      ],
      "metadata": {
        "id": "FQHWFr3uurIK",
        "colab": {
          "base_uri": "https://localhost:8080/",
          "height": 286
        },
        "outputId": "bec9437c-b39c-4dd3-dd12-480198f3fcd4"
      },
      "execution_count": null,
      "outputs": [
        {
          "output_type": "execute_result",
          "data": {
            "text/plain": [
              "<matplotlib.collections.PathCollection at 0x7f5c818a18e0>"
            ]
          },
          "metadata": {},
          "execution_count": 41
        },
        {
          "output_type": "display_data",
          "data": {
            "text/plain": [
              "<Figure size 432x288 with 1 Axes>"
            ],
            "image/png": "[encoded data removed]"
          },
          "metadata": {
            "needs_background": "light"
          }
        }
      ]
    },
    {
      "cell_type": "code",
      "source": [
        "plt.scatter(MLR[\"Month\"],MLR['Unemployment_Rate'])\n",
        "#No association with month and Unemployment Rate"
      ],
      "metadata": {
        "id": "o5IWLPisu8Ty",
        "colab": {
          "base_uri": "https://localhost:8080/",
          "height": 282
        },
        "outputId": "c2cb99c6-0fcf-4e7c-990b-94e6f9889e50"
      },
      "execution_count": null,
      "outputs": [
        {
          "output_type": "execute_result",
          "data": {
            "text/plain": [
              "<matplotlib.collections.PathCollection at 0x7f5c8181d250>"
            ]
          },
          "metadata": {},
          "execution_count": 42
        },
        {
          "output_type": "display_data",
          "data": {
            "text/plain": [
              "<Figure size 432x288 with 1 Axes>"
            ],
            "image/png": "[encoded data removed]"
          },
          "metadata": {
            "needs_background": "light"
          }
        }
      ]
    },
    {
      "cell_type": "code",
      "source": [
        "plt.scatter(MLR[\"Year\"],MLR['Unemployment_Rate'])\n",
        "#The unemployment rate decreases as"
      ],
      "metadata": {
        "id": "YbituutavNXj",
        "colab": {
          "base_uri": "https://localhost:8080/",
          "height": 282
        },
        "outputId": "0646e553-b192-4e07-f1c0-22f6ff443742"
      },
      "execution_count": null,
      "outputs": [
        {
          "output_type": "execute_result",
          "data": {
            "text/plain": [
              "<matplotlib.collections.PathCollection at 0x7f5c817f57c0>"
            ]
          },
          "metadata": {},
          "execution_count": 43
        },
        {
          "output_type": "display_data",
          "data": {
            "text/plain": [
              "<Figure size 432x288 with 1 Axes>"
            ],
            "image/png": "[encoded data removed]"
          },
          "metadata": {
            "needs_background": "light"
          }
        }
      ]
    },
    {
      "cell_type": "code",
      "source": [
        "plt.scatter(MLR[\"Year\"],MLR['Interest_Rate'])\n",
        "#The interest rate has increased over the years"
      ],
      "metadata": {
        "id": "P6525hX1vstD",
        "colab": {
          "base_uri": "https://localhost:8080/",
          "height": 286
        },
        "outputId": "73d838b9-f3e2-4e9a-faf3-5dd04b025430"
      },
      "execution_count": null,
      "outputs": [
        {
          "output_type": "execute_result",
          "data": {
            "text/plain": [
              "<matplotlib.collections.PathCollection at 0x7f5c817d75e0>"
            ]
          },
          "metadata": {},
          "execution_count": 44
        },
        {
          "output_type": "display_data",
          "data": {
            "text/plain": [
              "<Figure size 432x288 with 1 Axes>"
            ],
            "image/png": "[encoded data removed]"
          },
          "metadata": {
            "needs_background": "light"
          }
        }
      ]
    },
    {
      "cell_type": "code",
      "source": [
        "plt.scatter(MLR[\"Interest_Rate\"],MLR['Unemployment_Rate'])\n",
        "#As we increase the interest rate the unemployment decreases"
      ],
      "metadata": {
        "id": "k6S1gTY2v3bg",
        "colab": {
          "base_uri": "https://localhost:8080/",
          "height": 282
        },
        "outputId": "d7175835-4fd4-4848-9769-3a2472da128a"
      },
      "execution_count": null,
      "outputs": [
        {
          "output_type": "execute_result",
          "data": {
            "text/plain": [
              "<matplotlib.collections.PathCollection at 0x7f5c817344f0>"
            ]
          },
          "metadata": {},
          "execution_count": 45
        },
        {
          "output_type": "display_data",
          "data": {
            "text/plain": [
              "<Figure size 432x288 with 1 Axes>"
            ],
            "image/png": "[encoded data removed]"
          },
          "metadata": {
            "needs_background": "light"
          }
        }
      ]
    },
    {
      "cell_type": "markdown",
      "source": [
        "#Task 2"
      ],
      "metadata": {
        "id": "uxWH93Wl1kCn"
      }
    },
    {
      "cell_type": "code",
      "source": [
        "'''def slope_intercept(x,y):\n",
        "  x_mean=sum(x)/10\n",
        "  y_mean=sum(y)/10\n",
        "\n",
        "  x_deviation=(x-x_mean)\n",
        "  y_deviation=(y-y_mean)\n",
        "  xx_sum=sum(x**2)\n",
        "  yy_sum=sum(y**2)\n",
        "  xy_sum=sum(x*y)\n",
        "  x_y_deviation_prod=sum(x_deviation*y_deviation)\n",
        "  xx_deviation=sum((x-x_mean)**2)\n",
        "  slope=x_y_deviation_prod/xx_deviation\n",
        "  intercept=y_mean-(slope*x_mean)\n",
        "  return slope,intercept\n",
        "\n",
        "  slope,intercept=slope_intercept(x,y)'''"
      ],
      "metadata": {
        "id": "gFlsfncIb4re",
        "colab": {
          "base_uri": "https://localhost:8080/",
          "height": 87
        },
        "outputId": "a6b67f29-0e15-4e37-c811-028d8fa7986b"
      },
      "execution_count": null,
      "outputs": [
        {
          "output_type": "execute_result",
          "data": {
            "text/plain": [
              "'def slope_intercept(x,y):\\n  x_mean=sum(x)/10\\n  y_mean=sum(y)/10\\n\\n  x_deviation=(x-x_mean)\\n  y_deviation=(y-y_mean)\\n  xx_sum=sum(x**2)\\n  yy_sum=sum(y**2)\\n  xy_sum=sum(x*y)\\n  x_y_deviation_prod=sum(x_deviation*y_deviation)\\n  xx_deviation=sum((x-x_mean)**2)\\n  slope=x_y_deviation_prod/xx_deviation\\n  intercept=y_mean-(slope*x_mean)\\n  return slope,intercept\\n\\n  slope,intercept=slope_intercept(x,y)'"
            ],
            "application/vnd.google.colaboratory.intrinsic+json": {
              "type": "string"
            }
          },
          "metadata": {},
          "execution_count": 46
        }
      ]
    },
    {
      "cell_type": "code",
      "source": [
        "'''import matplotlib.pyplot as plt\n",
        "plt.scatter(x,y)\n",
        "plt.plot(x,(x*slope)+intercept)'''"
      ],
      "metadata": {
        "id": "0rez0hWab5Aw",
        "colab": {
          "base_uri": "https://localhost:8080/",
          "height": 35
        },
        "outputId": "1bc0d087-035a-41ab-dd68-eab422ad1950"
      },
      "execution_count": null,
      "outputs": [
        {
          "output_type": "execute_result",
          "data": {
            "text/plain": [
              "'import matplotlib.pyplot as plt\\nplt.scatter(x,y)\\nplt.plot(x,(x*slope)+intercept)'"
            ],
            "application/vnd.google.colaboratory.intrinsic+json": {
              "type": "string"
            }
          },
          "metadata": {},
          "execution_count": 47
        }
      ]
    },
    {
      "cell_type": "code",
      "source": [
        "sns.regplot(x=\"Interest_Rate\",y=\"Stock_Index_Price\",ci=None,data=MLR)"
      ],
      "metadata": {
        "colab": {
          "base_uri": "https://localhost:8080/",
          "height": 301
        },
        "id": "TZFe5MkUdE-0",
        "outputId": "edf4196e-5e2e-41a7-92ef-c77e51b1de01"
      },
      "execution_count": null,
      "outputs": [
        {
          "output_type": "execute_result",
          "data": {
            "text/plain": [
              "<AxesSubplot:xlabel='Interest_Rate', ylabel='Stock_Index_Price'>"
            ]
          },
          "metadata": {},
          "execution_count": 48
        },
        {
          "output_type": "display_data",
          "data": {
            "text/plain": [
              "<Figure size 432x288 with 1 Axes>"
            ],
            "image/png": "[encoded data removed]"
          },
          "metadata": {
            "needs_background": "light"
          }
        }
      ]
    },
    {
      "cell_type": "code",
      "source": [
        "sns.regplot(x=\"Unemployment_Rate\",y=\"Stock_Index_Price\",ci=100,data=MLR,fit_reg=True)"
      ],
      "metadata": {
        "colab": {
          "base_uri": "https://localhost:8080/",
          "height": 301
        },
        "id": "BWXP_ri6erNi",
        "outputId": "e91348ea-41b0-4edf-fb60-6bf9f8edc6fc"
      },
      "execution_count": null,
      "outputs": [
        {
          "output_type": "execute_result",
          "data": {
            "text/plain": [
              "<AxesSubplot:xlabel='Unemployment_Rate', ylabel='Stock_Index_Price'>"
            ]
          },
          "metadata": {},
          "execution_count": 49
        },
        {
          "output_type": "display_data",
          "data": {
            "text/plain": [
              "<Figure size 432x288 with 1 Axes>"
            ],
            "image/png": "[encoded data removed]"
          },
          "metadata": {
            "needs_background": "light"
          }
        }
      ]
    },
    {
      "cell_type": "code",
      "source": [
        "from sklearn import linear_model\n",
        "from sklearn.linear_model import LinearRegression\n",
        "from sklearn.model_selection import train_test_split"
      ],
      "metadata": {
        "id": "XZWTir_50HFt"
      },
      "execution_count": null,
      "outputs": []
    },
    {
      "cell_type": "code",
      "source": [
        "xi = np.array(MLR[\"Interest_Rate\"])\n",
        "yi = np.array(MLR[\"Stock_Index_Price\"])\n",
        "\n",
        "MLR.dropna(inplace = True)\n",
        "\n",
        "X=xi.reshape(-1,1)\n",
        "y=yi.reshape(-1,1)"
      ],
      "metadata": {
        "id": "7d_tRb5Q1103"
      },
      "execution_count": null,
      "outputs": []
    },
    {
      "cell_type": "code",
      "source": [
        "regr_1=LinearRegression().fit(X,y)"
      ],
      "metadata": {
        "id": "bbDKYAim2cI_"
      },
      "execution_count": null,
      "outputs": []
    },
    {
      "cell_type": "code",
      "source": [
        "slope=regr_1.coef_\n",
        "print(slope[0][0])\n",
        "slope=slope[0][0]"
      ],
      "metadata": {
        "id": "S3iXqBy03Dm3",
        "colab": {
          "base_uri": "https://localhost:8080/"
        },
        "outputId": "157111ef-681b-4238-b905-c4938ea136a4"
      },
      "execution_count": null,
      "outputs": [
        {
          "output_type": "stream",
          "name": "stdout",
          "text": [
            "564.2038924930492\n"
          ]
        }
      ]
    },
    {
      "cell_type": "code",
      "source": [
        "intercept=regr_1.intercept_\n",
        "print(intercept[0])\n",
        "intercept=intercept[0]"
      ],
      "metadata": {
        "id": "7HhqHfkB7elk",
        "colab": {
          "base_uri": "https://localhost:8080/"
        },
        "outputId": "f7864818-7ad3-41c5-c32a-883cb1b7b231"
      },
      "execution_count": null,
      "outputs": [
        {
          "output_type": "stream",
          "name": "stdout",
          "text": [
            "-99.46431881371655\n"
          ]
        }
      ]
    },
    {
      "cell_type": "code",
      "source": [
        "x=float(input(\"Enter the value of interest rate: \"))\n",
        "y_pred_value=intercept + slope*x\n",
        "print()\n",
        "print(f\"The predicted value of stock is: {y_pred_value}\")"
      ],
      "metadata": {
        "id": "BMeSGY5qiEWL",
        "colab": {
          "base_uri": "https://localhost:8080/"
        },
        "outputId": "a304a094-9970-43f3-9d07-adda99051da9"
      },
      "execution_count": null,
      "outputs": [
        {
          "output_type": "stream",
          "name": "stdout",
          "text": [
            "Enter the value of interest rate: 5.8\n",
            "\n",
            "The predicted value of stock is: 3172.918257645969\n"
          ]
        }
      ]
    },
    {
      "cell_type": "code",
      "source": [
        "def y_predicted_list(xi,yi,slope,intercept):\n",
        "  y_pred_list=intercept+slope*xi\n",
        "  return y_pred_list\n",
        "\n",
        "y_pred_list=y_predicted_list(xi,yi,slope,intercept)"
      ],
      "metadata": {
        "id": "98wwHeUEhGfH"
      },
      "execution_count": null,
      "outputs": []
    },
    {
      "cell_type": "code",
      "source": [
        "from sklearn.metrics import r2_score\n",
        "print(f\"The value for R square for the relation Interest Rate and Stock Index Price is : {r2_score(yi, y_pred_list)}\")"
      ],
      "metadata": {
        "id": "1huEya631At7",
        "colab": {
          "base_uri": "https://localhost:8080/"
        },
        "outputId": "8880b907-2abe-4d4b-ebcf-97c5b8a03a44"
      },
      "execution_count": null,
      "outputs": [
        {
          "output_type": "stream",
          "name": "stdout",
          "text": [
            "The value for R square for the relation Interest Rate and Stock Index Price is : 0.8757089547891359\n"
          ]
        }
      ]
    },
    {
      "cell_type": "code",
      "source": [
        "xi = np.array(MLR[\"Unemployment_Rate\"])\n",
        "yi = np.array(MLR[\"Stock_Index_Price\"])\n",
        "\n",
        "MLR.dropna(inplace= True)\n",
        "\n",
        "X=xi.reshape(-1,1)\n",
        "y=yi.reshape(-1,1)"
      ],
      "metadata": {
        "id": "S7IESI_gj8d0"
      },
      "execution_count": null,
      "outputs": []
    },
    {
      "cell_type": "code",
      "source": [
        "regr_2=LinearRegression().fit(X,y)\n"
      ],
      "metadata": {
        "id": "fT9BDX9hkJMV"
      },
      "execution_count": null,
      "outputs": []
    },
    {
      "cell_type": "code",
      "source": [
        "slope=regr_2.coef_\n",
        "slope=slope[0][0]\n",
        "print(f\"The slope of the graph is: {slope}\")"
      ],
      "metadata": {
        "id": "pPAar06tlLYG",
        "colab": {
          "base_uri": "https://localhost:8080/"
        },
        "outputId": "0fcd743c-dc5c-41ff-fb4b-61cdcf72b37e"
      },
      "execution_count": null,
      "outputs": [
        {
          "output_type": "stream",
          "name": "stdout",
          "text": [
            "The slope of the graph is: -588.9620758483036\n"
          ]
        }
      ]
    },
    {
      "cell_type": "code",
      "source": [
        "intercept=regr_2.intercept_\n",
        "intercept=intercept[0]\n",
        "print(f\"The intercept of the graph is: {intercept}\")"
      ],
      "metadata": {
        "id": "HSG88ngmlhrA",
        "colab": {
          "base_uri": "https://localhost:8080/"
        },
        "outputId": "ac952797-7c91-459f-fcbd-761f8205c33c"
      },
      "execution_count": null,
      "outputs": [
        {
          "output_type": "stream",
          "name": "stdout",
          "text": [
            "The intercept of the graph is: 4471.339321357287\n"
          ]
        }
      ]
    },
    {
      "cell_type": "code",
      "source": [
        "x=float(input(\"Enter the value of unemployment rate: \"))\n",
        "y_pred_value=intercept + slope*x\n",
        "print(f\"The value of Stock Index Price is: {y_pred_value}\")"
      ],
      "metadata": {
        "id": "4PObeyD0sB-f",
        "colab": {
          "base_uri": "https://localhost:8080/"
        },
        "outputId": "bfd44517-42ab-4fbd-8ec2-f68054b1d42f"
      },
      "execution_count": null,
      "outputs": [
        {
          "output_type": "stream",
          "name": "stdout",
          "text": [
            "Enter the value of unemployment rate: 2.6\n",
            "The value of Stock Index Price is: 2940.0379241516976\n"
          ]
        }
      ]
    },
    {
      "cell_type": "code",
      "source": [
        "\n",
        "y_pred_list=y_predicted_list(xi,yi,slope,intercept)\n",
        "print(f\"The value of R square for the relation Unemployment and Stock Index Price is: {r2_score(yi,y_pred_list)}  \")"
      ],
      "metadata": {
        "id": "hXdD4dm6l839",
        "colab": {
          "base_uri": "https://localhost:8080/"
        },
        "outputId": "57489dda-74f9-4c5e-ad57-57a9559ca00b"
      },
      "execution_count": null,
      "outputs": [
        {
          "output_type": "stream",
          "name": "stdout",
          "text": [
            "The value of R square for the relation Unemployment and Stock Index Price is: 0.850706607677214  \n"
          ]
        }
      ]
    },
    {
      "cell_type": "markdown",
      "source": [
        "#Task 3"
      ],
      "metadata": {
        "id": "lid_2OjYuocw"
      }
    },
    {
      "cell_type": "code",
      "source": [
        "from sklearn import linear_model\n",
        "from sklearn.linear_model import LinearRegression\n",
        "from sklearn.model_selection import train_test_split"
      ],
      "metadata": {
        "id": "puTrhCUAAAPQ"
      },
      "execution_count": null,
      "outputs": []
    },
    {
      "cell_type": "code",
      "source": [
        "def y_predicted_list_m(x1,x2,slope_1,slope_2,intercept):\n",
        "  y_pred_list=intercept + slope_2*x1 +slope_1*x2\n",
        "  return y_pred_list\n",
        "\n",
        "#function to return the predicted values of y/ dependent varaible\n"
      ],
      "metadata": {
        "id": "xsRc9_kBuywR"
      },
      "execution_count": null,
      "outputs": []
    },
    {
      "cell_type": "code",
      "source": [
        "x1=np.array(MLR[[\"Unemployment_Rate\"]]).reshape(-1,1)\n",
        "x2=np.array(MLR[[\"Interest_Rate\"]]).reshape(-1,1)"
      ],
      "metadata": {
        "id": "4nJHsJYWu9Iq"
      },
      "execution_count": null,
      "outputs": []
    },
    {
      "cell_type": "code",
      "source": [
        "X=MLR[[\"Interest_Rate\",\"Unemployment_Rate\"]]\n",
        "y=MLR[[\"Stock_Index_Price\"]]\n",
        "M_Regr_1=linear_model.LinearRegression().fit(X,y)\n",
        "slopes=M_Regr_1.coef_\n",
        "slope_1=slopes[0][0]\n",
        "slope_2=slopes[0][1]\n",
        "print(slope_1,slope_2)"
      ],
      "metadata": {
        "id": "sTo6fFXOr4on",
        "colab": {
          "base_uri": "https://localhost:8080/"
        },
        "outputId": "4f3f2ee1-6573-4f23-e769-ec9e68cd56dd"
      },
      "execution_count": null,
      "outputs": [
        {
          "output_type": "stream",
          "name": "stdout",
          "text": [
            "345.54008701056574 -250.14657136938055\n"
          ]
        }
      ]
    },
    {
      "cell_type": "code",
      "source": [
        "intercept=M_Regr_1.intercept_\n",
        "intercept=intercept[0]\n",
        "print(intercept)"
      ],
      "metadata": {
        "colab": {
          "base_uri": "https://localhost:8080/"
        },
        "id": "6sHa1us1wKVn",
        "outputId": "9b540e09-384b-4190-a8c0-67a7a4e1ce96"
      },
      "execution_count": null,
      "outputs": [
        {
          "output_type": "stream",
          "name": "stdout",
          "text": [
            "1798.4039776258544\n"
          ]
        }
      ]
    },
    {
      "cell_type": "code",
      "source": [
        "y_pred_list=y_predicted_list_m(x1,x2,slope_1,slope_2,intercept)\n",
        "print(y_pred_list)"
      ],
      "metadata": {
        "colab": {
          "base_uri": "https://localhost:8080/"
        },
        "id": "484CSFkPwpcI",
        "outputId": "91166fbd-0373-45e9-ea3d-b5123f527537"
      },
      "execution_count": null,
      "outputs": [
        {
          "output_type": "stream",
          "name": "stdout",
          "text": [
            "[[1422.86238865]\n",
            " [1336.47736689]\n",
            " [1336.47736689]\n",
            " [1336.47736689]\n",
            " [1311.46270976]\n",
            " [1261.43339548]\n",
            " [1286.44805262]\n",
            " [1200.06303087]\n",
            " [1200.06303087]\n",
            " [1175.04837373]\n",
            " [1063.64869484]\n",
            " [1013.61938057]\n",
            " [ 988.60472343]\n",
            " [ 927.23435881]\n",
            " [ 952.24901595]\n",
            " [ 877.20504454]\n",
            " [ 852.1903874 ]\n",
            " [ 877.20504454]\n",
            " [ 877.20504454]\n",
            " [ 877.20504454]\n",
            " [ 927.23435881]\n",
            " [ 852.1903874 ]\n",
            " [ 852.1903874 ]\n",
            " [ 877.20504454]]\n"
          ]
        }
      ]
    },
    {
      "cell_type": "code",
      "source": [
        "print(r2_score(y,y_pred_list))"
      ],
      "metadata": {
        "colab": {
          "base_uri": "https://localhost:8080/"
        },
        "id": "JRjQoUlhyEP5",
        "outputId": "f8780893-008d-467f-ed89-1996046a07ce"
      },
      "execution_count": null,
      "outputs": [
        {
          "output_type": "stream",
          "name": "stdout",
          "text": [
            "0.8976335894170216\n"
          ]
        }
      ]
    },
    {
      "cell_type": "markdown",
      "source": [
        "#Task 4"
      ],
      "metadata": {
        "id": "02wrxDdG0A5i"
      }
    },
    {
      "cell_type": "code",
      "source": [
        "from sklearn import linear_model\n",
        "from sklearn.linear_model import LinearRegression\n",
        "from sklearn.model_selection import train_test_split"
      ],
      "metadata": {
        "id": "svwE7QrjG0aH"
      },
      "execution_count": null,
      "outputs": []
    },
    {
      "cell_type": "code",
      "source": [
        "startup=pd.read_csv(\"50_Startups.csv\")"
      ],
      "metadata": {
        "id": "DXFd2dTgzVya"
      },
      "execution_count": null,
      "outputs": []
    },
    {
      "cell_type": "code",
      "source": [
        "startup.head()"
      ],
      "metadata": {
        "colab": {
          "base_uri": "https://localhost:8080/",
          "height": 206
        },
        "id": "0pDYfKc100xV",
        "outputId": "2d0e08b9-f0d3-4a8e-b5ee-a06faeefd6cc"
      },
      "execution_count": null,
      "outputs": [
        {
          "output_type": "execute_result",
          "data": {
            "text/plain": [
              "   R&D Spend  Administration  Marketing Spend       State     Profit\n",
              "0  165349.20       136897.80        471784.10    New York  192261.83\n",
              "1  162597.70       151377.59        443898.53  California  191792.06\n",
              "2  153441.51       101145.55        407934.54     Florida  191050.39\n",
              "3  144372.41       118671.85        383199.62    New York  182901.99\n",
              "4  142107.34        91391.77        366168.42     Florida  166187.94"
            ],
            "text/html": [
              "\n",
              "  <div id=\"df-28fac51c-74e6-42ee-94f5-a103b270ce96\">\n",
              "    <div class=\"colab-df-container\">\n",
              "      <div>\n",
              "<style scoped>\n",
              "    .dataframe tbody tr th:only-of-type {\n",
              "        vertical-align: middle;\n",
              "    }\n",
              "\n",
              "    .dataframe tbody tr th {\n",
              "        vertical-align: top;\n",
              "    }\n",
              "\n",
              "    .dataframe thead th {\n",
              "        text-align: right;\n",
              "    }\n",
              "</style>\n",
              "<table border=\"1\" class=\"dataframe\">\n",
              "  <thead>\n",
              "    <tr style=\"text-align: right;\">\n",
              "      <th></th>\n",
              "      <th>R&amp;D Spend</th>\n",
              "      <th>Administration</th>\n",
              "      <th>Marketing Spend</th>\n",
              "      <th>State</th>\n",
              "      <th>Profit</th>\n",
              "    </tr>\n",
              "  </thead>\n",
              "  <tbody>\n",
              "    <tr>\n",
              "      <th>0</th>\n",
              "      <td>165349.20</td>\n",
              "      <td>136897.80</td>\n",
              "      <td>471784.10</td>\n",
              "      <td>New York</td>\n",
              "      <td>192261.83</td>\n",
              "    </tr>\n",
              "    <tr>\n",
              "      <th>1</th>\n",
              "      <td>162597.70</td>\n",
              "      <td>151377.59</td>\n",
              "      <td>443898.53</td>\n",
              "      <td>California</td>\n",
              "      <td>191792.06</td>\n",
              "    </tr>\n",
              "    <tr>\n",
              "      <th>2</th>\n",
              "      <td>153441.51</td>\n",
              "      <td>101145.55</td>\n",
              "      <td>407934.54</td>\n",
              "      <td>Florida</td>\n",
              "      <td>191050.39</td>\n",
              "    </tr>\n",
              "    <tr>\n",
              "      <th>3</th>\n",
              "      <td>144372.41</td>\n",
              "      <td>118671.85</td>\n",
              "      <td>383199.62</td>\n",
              "      <td>New York</td>\n",
              "      <td>182901.99</td>\n",
              "    </tr>\n",
              "    <tr>\n",
              "      <th>4</th>\n",
              "      <td>142107.34</td>\n",
              "      <td>91391.77</td>\n",
              "      <td>366168.42</td>\n",
              "      <td>Florida</td>\n",
              "      <td>166187.94</td>\n",
              "    </tr>\n",
              "  </tbody>\n",
              "</table>\n",
              "</div>\n",
              "      <button class=\"colab-df-convert\" onclick=\"convertToInteractive('df-28fac51c-74e6-42ee-94f5-a103b270ce96')\"\n",
              "              title=\"Convert this dataframe to an interactive table.\"\n",
              "              style=\"display:none;\">\n",
              "        \n",
              "  <svg xmlns=\"http://www.w3.org/2000/svg\" height=\"24px\"viewBox=\"0 0 24 24\"\n",
              "       width=\"24px\">\n",
              "    <path d=\"M0 0h24v24H0V0z\" fill=\"none\"/>\n",
              "    <path d=\"M18.56 5.44l.94 2.06.94-2.06 2.06-.94-2.06-.94-.94-2.06-.94 2.06-2.06.94zm-11 1L8.5 8.5l.94-2.06 2.06-.94-2.06-.94L8.5 2.5l-.94 2.06-2.06.94zm10 10l.94 2.06.94-2.06 2.06-.94-2.06-.94-.94-2.06-.94 2.06-2.06.94z\"/><path d=\"M17.41 7.96l-1.37-1.37c-.4-.4-.92-.59-1.43-.59-.52 0-1.04.2-1.43.59L10.3 9.45l-7.72 7.72c-.78.78-.78 2.05 0 2.83L4 21.41c.39.39.9.59 1.41.59.51 0 1.02-.2 1.41-.59l7.78-7.78 2.81-2.81c.8-.78.8-2.07 0-2.86zM5.41 20L4 18.59l7.72-7.72 1.47 1.35L5.41 20z\"/>\n",
              "  </svg>\n",
              "      </button>\n",
              "      \n",
              "  <style>\n",
              "    .colab-df-container {\n",
              "      display:flex;\n",
              "      flex-wrap:wrap;\n",
              "      gap: 12px;\n",
              "    }\n",
              "\n",
              "    .colab-df-convert {\n",
              "      background-color: #E8F0FE;\n",
              "      border: none;\n",
              "      border-radius: 50%;\n",
              "      cursor: pointer;\n",
              "      display: none;\n",
              "      fill: #1967D2;\n",
              "      height: 32px;\n",
              "      padding: 0 0 0 0;\n",
              "      width: 32px;\n",
              "    }\n",
              "\n",
              "    .colab-df-convert:hover {\n",
              "      background-color: #E2EBFA;\n",
              "      box-shadow: 0px 1px 2px rgba(60, 64, 67, 0.3), 0px 1px 3px 1px rgba(60, 64, 67, 0.15);\n",
              "      fill: #174EA6;\n",
              "    }\n",
              "\n",
              "    [theme=dark] .colab-df-convert {\n",
              "      background-color: #3B4455;\n",
              "      fill: #D2E3FC;\n",
              "    }\n",
              "\n",
              "    [theme=dark] .colab-df-convert:hover {\n",
              "      background-color: #434B5C;\n",
              "      box-shadow: 0px 1px 3px 1px rgba(0, 0, 0, 0.15);\n",
              "      filter: drop-shadow(0px 1px 2px rgba(0, 0, 0, 0.3));\n",
              "      fill: #FFFFFF;\n",
              "    }\n",
              "  </style>\n",
              "\n",
              "      <script>\n",
              "        const buttonEl =\n",
              "          document.querySelector('#df-28fac51c-74e6-42ee-94f5-a103b270ce96 button.colab-df-convert');\n",
              "        buttonEl.style.display =\n",
              "          google.colab.kernel.accessAllowed ? 'block' : 'none';\n",
              "\n",
              "        async function convertToInteractive(key) {\n",
              "          const element = document.querySelector('#df-28fac51c-74e6-42ee-94f5-a103b270ce96');\n",
              "          const dataTable =\n",
              "            await google.colab.kernel.invokeFunction('convertToInteractive',\n",
              "                                                     [key], {});\n",
              "          if (!dataTable) return;\n",
              "\n",
              "          const docLinkHtml = 'Like what you see? Visit the ' +\n",
              "            '<a target=\"_blank\" href=https://colab.research.google.com/notebooks/data_table.ipynb>data table notebook</a>'\n",
              "            + ' to learn more about interactive tables.';\n",
              "          element.innerHTML = '';\n",
              "          dataTable['output_type'] = 'display_data';\n",
              "          await google.colab.output.renderOutput(dataTable, element);\n",
              "          const docLink = document.createElement('div');\n",
              "          docLink.innerHTML = docLinkHtml;\n",
              "          element.appendChild(docLink);\n",
              "        }\n",
              "      </script>\n",
              "    </div>\n",
              "  </div>\n",
              "  "
            ]
          },
          "metadata": {},
          "execution_count": 73
        }
      ]
    },
    {
      "cell_type": "code",
      "source": [
        "startup.info()"
      ],
      "metadata": {
        "colab": {
          "base_uri": "https://localhost:8080/"
        },
        "id": "k9WooRuY04jS",
        "outputId": "63be2c84-2425-4423-9a63-b1469dbf1729"
      },
      "execution_count": null,
      "outputs": [
        {
          "output_type": "stream",
          "name": "stdout",
          "text": [
            "<class 'pandas.core.frame.DataFrame'>\n",
            "RangeIndex: 50 entries, 0 to 49\n",
            "Data columns (total 5 columns):\n",
            " #   Column           Non-Null Count  Dtype  \n",
            "---  ------           --------------  -----  \n",
            " 0   R&D Spend        50 non-null     float64\n",
            " 1   Administration   50 non-null     float64\n",
            " 2   Marketing Spend  50 non-null     float64\n",
            " 3   State            50 non-null     object \n",
            " 4   Profit           50 non-null     float64\n",
            "dtypes: float64(4), object(1)\n",
            "memory usage: 2.1+ KB\n"
          ]
        }
      ]
    },
    {
      "cell_type": "code",
      "source": [
        "x1=np.array(startup[[\"R&D Spend\"]],dtype=float)\n",
        "x2=np.array(startup[[\"Administration\"]],dtype=float)\n",
        "x3=np.array(startup[[\"Marketing Spend\"]],dtype=float)\n",
        "print(len(x1))\n",
        "\n",
        "x4=startup[[\"R&D Spend\",\"Administration\",]]\n",
        "x5=startup[[\"R&D Spend\",\"Marketing Spend\",]]\n",
        "x6=startup[[\"Administration\",\"Marketing Spend\",]]\n",
        "\n",
        "x7=startup[[\"R&D Spend\",\"Administration\",\"Marketing Spend\",]]\n",
        "\n",
        "y=np.array(startup[[\"Profit\"]],dtype=float)"
      ],
      "metadata": {
        "id": "4CckT4fG1JXa",
        "colab": {
          "base_uri": "https://localhost:8080/"
        },
        "outputId": "1abd74f0-7e84-410a-8744-84e97beeac44"
      },
      "execution_count": null,
      "outputs": [
        {
          "output_type": "stream",
          "name": "stdout",
          "text": [
            "50\n"
          ]
        }
      ]
    },
    {
      "cell_type": "code",
      "source": [
        "xi = np.array(startup[\"R&D Spend\"])\n",
        "yi = np.array(startup[\"Profit\"])\n",
        "\n",
        "startup.dropna(inplace = True)\n",
        "\n",
        "X=xi.reshape(-1,1)\n",
        "y=yi.reshape(-1,1)"
      ],
      "metadata": {
        "id": "BBC5SDq_2z2I"
      },
      "execution_count": null,
      "outputs": []
    },
    {
      "cell_type": "code",
      "source": [
        "regr_1=LinearRegression().fit(X,y)"
      ],
      "metadata": {
        "id": "maau2UqE31J_"
      },
      "execution_count": null,
      "outputs": []
    },
    {
      "cell_type": "code",
      "source": [
        "slope=regr_1.coef_\n",
        "print(slope[0][0])\n",
        "slope=slope[0][0]"
      ],
      "metadata": {
        "id": "MXLFatze35vX",
        "colab": {
          "base_uri": "https://localhost:8080/"
        },
        "outputId": "8792a5d6-4e5a-403f-b285-9d1efd82b4ae"
      },
      "execution_count": null,
      "outputs": [
        {
          "output_type": "stream",
          "name": "stdout",
          "text": [
            "0.8542913709388087\n"
          ]
        }
      ]
    },
    {
      "cell_type": "code",
      "source": [
        "intercept=regr_1.intercept_\n",
        "print(intercept[0])\n",
        "intercept=intercept[0]"
      ],
      "metadata": {
        "id": "_JIvetrT3-BO",
        "colab": {
          "base_uri": "https://localhost:8080/"
        },
        "outputId": "3c5cf117-547e-46cd-c6cb-a15b8bfc1497"
      },
      "execution_count": null,
      "outputs": [
        {
          "output_type": "stream",
          "name": "stdout",
          "text": [
            "49032.89914125215\n"
          ]
        }
      ]
    },
    {
      "cell_type": "code",
      "source": [
        "x=float(input(\"Enter the value of R&D Spend: \"))\n",
        "y_pred_value=intercept + slope*x\n",
        "print()\n",
        "print(f\"The predicted value of Profit is: {y_pred_value}\")"
      ],
      "metadata": {
        "id": "rWqT9wQU4J9C",
        "colab": {
          "base_uri": "https://localhost:8080/"
        },
        "outputId": "bcd3a950-c5b7-4654-86e5-f3d82d4a6b72"
      },
      "execution_count": null,
      "outputs": [
        {
          "output_type": "stream",
          "name": "stdout",
          "text": [
            "Enter the value of R&D Spend: 134516\n",
            "\n",
            "The predicted value of Profit is: 163948.75719445694\n"
          ]
        }
      ]
    },
    {
      "cell_type": "code",
      "source": [
        "y_pred_list=y_predicted_list(xi,yi,slope,intercept)\n",
        "print(f\"The value of R square for the relation R&D spend and Profit is: {r2_score(yi,y_pred_list)}  \")"
      ],
      "metadata": {
        "id": "2QE2ZK9r4y8w",
        "colab": {
          "base_uri": "https://localhost:8080/"
        },
        "outputId": "c6bd50e9-3cb8-468a-af1e-791cd993025b"
      },
      "execution_count": null,
      "outputs": [
        {
          "output_type": "stream",
          "name": "stdout",
          "text": [
            "The value of R square for the relation R&D spend and Profit is: 0.9465353160804393  \n"
          ]
        }
      ]
    },
    {
      "cell_type": "code",
      "source": [
        "xi = np.array(startup[\"Administration\"])\n",
        "yi = np.array(startup[\"Profit\"])\n",
        "\n",
        "startup.dropna(inplace = True)\n",
        "\n",
        "X=xi.reshape(-1,1)\n",
        "y=yi.reshape(-1,1)"
      ],
      "metadata": {
        "id": "JMsCM_Wo5Tzh"
      },
      "execution_count": null,
      "outputs": []
    },
    {
      "cell_type": "code",
      "source": [
        "regr_2=LinearRegression().fit(X,y)"
      ],
      "metadata": {
        "id": "O8X484LQ5aB4"
      },
      "execution_count": null,
      "outputs": []
    },
    {
      "cell_type": "code",
      "source": [
        "slope=regr_2.coef_\n",
        "print(slope[0][0])\n",
        "slope=slope[0][0]"
      ],
      "metadata": {
        "colab": {
          "base_uri": "https://localhost:8080/"
        },
        "id": "GdWLPOgt5cf4",
        "outputId": "1846a8ab-7f64-4c77-c73c-f4714ca9c9bb"
      },
      "execution_count": null,
      "outputs": [
        {
          "output_type": "stream",
          "name": "stdout",
          "text": [
            "0.2887492023552266\n"
          ]
        }
      ]
    },
    {
      "cell_type": "code",
      "source": [
        "intercept=regr_2.intercept_\n",
        "print(intercept[0])\n",
        "intercept=intercept[0]"
      ],
      "metadata": {
        "colab": {
          "base_uri": "https://localhost:8080/"
        },
        "id": "bMFeBrqB5hJy",
        "outputId": "e3c7a406-7cd0-47c7-da23-10dbd3f310f7"
      },
      "execution_count": null,
      "outputs": [
        {
          "output_type": "stream",
          "name": "stdout",
          "text": [
            "76974.47130541757\n"
          ]
        }
      ]
    },
    {
      "cell_type": "code",
      "source": [
        "x=float(input(\"Enter the value of Administration: \"))\n",
        "y_pred_value=intercept + slope*x\n",
        "print()\n",
        "print(f\"The predicted value of Profit is: {y_pred_value}\")"
      ],
      "metadata": {
        "colab": {
          "base_uri": "https://localhost:8080/"
        },
        "id": "ZuWLKG7-5lg4",
        "outputId": "57d5d572-43b9-4fcf-9a18-407e43c5070d"
      },
      "execution_count": null,
      "outputs": [
        {
          "output_type": "stream",
          "name": "stdout",
          "text": [
            "Enter the value of Administration: 130530\n",
            "\n",
            "The predicted value of Profit is: 114664.9046888453\n"
          ]
        }
      ]
    },
    {
      "cell_type": "code",
      "source": [
        "y_pred_list=y_predicted_list(xi,yi,slope,intercept)\n",
        "print(f\"The value of R square for the relation Administration spend and Profit is: {r2_score(yi,y_pred_list)}  \")"
      ],
      "metadata": {
        "colab": {
          "base_uri": "https://localhost:8080/"
        },
        "id": "AFXV7D-s6FWg",
        "outputId": "b66b56ae-e5a1-4f10-b399-c3e3e83610ad"
      },
      "execution_count": null,
      "outputs": [
        {
          "output_type": "stream",
          "name": "stdout",
          "text": [
            "The value of R square for the relation Administration spend and Profit is: 0.04028714077757223  \n"
          ]
        }
      ]
    },
    {
      "cell_type": "markdown",
      "source": [
        "R-Square values of Model of Administration spend and Profit is very low therefore the model that model should't be chosen"
      ],
      "metadata": {
        "id": "CulSlZsUH9iO"
      }
    },
    {
      "cell_type": "code",
      "source": [
        "xi = np.array(startup[\"Marketing Spend\"])\n",
        "yi = np.array(startup[\"Profit\"])\n",
        "\n",
        "startup.dropna(inplace = True)\n",
        "\n",
        "X=xi.reshape(-1,1)\n",
        "y=yi.reshape(-1,1)"
      ],
      "metadata": {
        "id": "gg_otmJM6gEh"
      },
      "execution_count": null,
      "outputs": []
    },
    {
      "cell_type": "code",
      "source": [
        "regr_3=LinearRegression().fit(X,y)"
      ],
      "metadata": {
        "id": "84cW-k_K6nZ7"
      },
      "execution_count": null,
      "outputs": []
    },
    {
      "cell_type": "code",
      "source": [
        "slope=regr_3.coef_\n",
        "print(slope[0][0])\n",
        "slope=slope[0][0]"
      ],
      "metadata": {
        "colab": {
          "base_uri": "https://localhost:8080/"
        },
        "id": "k_3yaSY160Qk",
        "outputId": "3cbd2099-047d-499b-d0b1-2ea94c0fdaf9"
      },
      "execution_count": null,
      "outputs": [
        {
          "output_type": "stream",
          "name": "stdout",
          "text": [
            "0.24645926444976768\n"
          ]
        }
      ]
    },
    {
      "cell_type": "code",
      "source": [
        "intercept=regr_3.intercept_\n",
        "print(intercept[0])\n",
        "intercept=intercept[0]"
      ],
      "metadata": {
        "colab": {
          "base_uri": "https://localhost:8080/"
        },
        "id": "cOkE2UnY7Cii",
        "outputId": "b2a244ad-a66d-4379-9559-982320088e12"
      },
      "execution_count": null,
      "outputs": [
        {
          "output_type": "stream",
          "name": "stdout",
          "text": [
            "60003.54881577173\n"
          ]
        }
      ]
    },
    {
      "cell_type": "code",
      "source": [
        "x=float(input(\"Enter the value of Marketing_Spend: \"))\n",
        "y_pred_value=intercept + slope*x\n",
        "print()\n",
        "print(f\"The predicted value of profit is: {y_pred_value}\")"
      ],
      "metadata": {
        "colab": {
          "base_uri": "https://localhost:8080/"
        },
        "id": "GF8TvGHq7UO9",
        "outputId": "8398c096-f14f-472d-90e2-51734b665212"
      },
      "execution_count": null,
      "outputs": [
        {
          "output_type": "stream",
          "name": "stdout",
          "text": [
            "Enter the value of Marketing_Spend: 300000\n",
            "\n",
            "The predicted value of profit is: 133941.32815070203\n"
          ]
        }
      ]
    },
    {
      "cell_type": "code",
      "source": [
        "y_pred_list=y_predicted_list(xi,yi,slope,intercept)\n",
        "print(f\"The value of R square for the relation R&D spend and Profit is: {r2_score(yi,y_pred_list)}  \")"
      ],
      "metadata": {
        "colab": {
          "base_uri": "https://localhost:8080/"
        },
        "id": "KiK57d3K7yID",
        "outputId": "41db82ef-d8e8-4c33-e1f0-0e18598645fa"
      },
      "execution_count": null,
      "outputs": [
        {
          "output_type": "stream",
          "name": "stdout",
          "text": [
            "The value of R square for the relation R&D spend and Profit is: 0.5591535746115515  \n"
          ]
        }
      ]
    },
    {
      "cell_type": "code",
      "source": [
        "M_regr_1=LinearRegression().fit(x4,y)"
      ],
      "metadata": {
        "id": "XR0PvKXU72pi"
      },
      "execution_count": null,
      "outputs": []
    },
    {
      "cell_type": "code",
      "source": [
        "slopes=M_regr_1.coef_\n",
        "slope_1=slopes[0][0]\n",
        "slope_2=slopes[0][1]\n",
        "print(slope_1,slope_2)"
      ],
      "metadata": {
        "colab": {
          "base_uri": "https://localhost:8080/"
        },
        "id": "pvNaEdFZ8T8s",
        "outputId": "32e4b782-29b1-4b7c-8da7-81837d46a07d"
      },
      "execution_count": null,
      "outputs": [
        {
          "output_type": "stream",
          "name": "stdout",
          "text": [
            "0.862117977726663 -0.052995431891969334\n"
          ]
        }
      ]
    },
    {
      "cell_type": "code",
      "source": [
        "intercept=M_regr_1.intercept_\n",
        "intercept=intercept[0]\n",
        "print(intercept)"
      ],
      "metadata": {
        "colab": {
          "base_uri": "https://localhost:8080/"
        },
        "id": "Rh2fCS6G8gtU",
        "outputId": "44a54208-0499-404a-b3fb-1f30b95e41e9"
      },
      "execution_count": null,
      "outputs": [
        {
          "output_type": "stream",
          "name": "stdout",
          "text": [
            "54886.62062756297\n"
          ]
        }
      ]
    },
    {
      "cell_type": "code",
      "source": [
        "y_pred_list=y_predicted_list_m(x1,x2,slope_2,slope_1,intercept)\n",
        "print(y_pred_list)"
      ],
      "metadata": {
        "id": "2fVoAfiu8rDd",
        "colab": {
          "base_uri": "https://localhost:8080/"
        },
        "outputId": "b34ca8ec-6651-4701-aecb-54c120d8e886"
      },
      "execution_count": null,
      "outputs": [
        {
          "output_type": "stream",
          "name": "stdout",
          "text": [
            "[[190182.18051422]\n",
            " [187042.70017375]\n",
            " [181811.05282189]\n",
            " [173063.60483212]\n",
            " [172556.56688596]\n",
            " [163290.3432988 ]\n",
            " [163140.16108385]\n",
            " [159506.55258176]\n",
            " [150927.06921427]\n",
            " [155456.33840451]\n",
            " [136886.7364369 ]\n",
            " [136813.24417597]\n",
            " [129060.84843265]\n",
            " [127014.29410672]\n",
            " [149995.54600387]\n",
            " [147121.35128969]\n",
            " [115699.01057768]\n",
            " [128803.81097417]\n",
            " [127934.42560223]\n",
            " [121255.05106635]\n",
            " [114591.99746274]\n",
            " [114318.30264267]\n",
            " [112171.7361924 ]\n",
            " [107503.30731406]\n",
            " [116046.1892326 ]\n",
            " [103239.54965695]\n",
            " [112190.44518513]\n",
            " [110275.64186736]\n",
            " [102151.44314038]\n",
            " [103336.28425993]\n",
            " [102204.71677724]\n",
            " [ 99500.88871756]\n",
            " [102704.48973985]\n",
            " [ 97267.37638538]\n",
            " [ 86554.31281262]\n",
            " [ 90049.00868293]\n",
            " [ 72864.7647093 ]\n",
            " [ 90162.344647  ]\n",
            " [ 68831.97481587]\n",
            " [ 83730.93359407]\n",
            " [ 73393.84633921]\n",
            " [ 74444.3245688 ]\n",
            " [ 70170.28040536]\n",
            " [ 61503.70921445]\n",
            " [ 65802.43073808]\n",
            " [ 49169.39291692]\n",
            " [ 49882.9722735 ]\n",
            " [ 47709.61251236]\n",
            " [ 52611.78109569]\n",
            " [ 48687.0136222 ]]\n"
          ]
        }
      ]
    },
    {
      "cell_type": "code",
      "source": [
        "print(r2_score(y,y_pred_list))"
      ],
      "metadata": {
        "colab": {
          "base_uri": "https://localhost:8080/"
        },
        "id": "6am91B858wOv",
        "outputId": "696650f2-09ab-4e3b-dce4-c0a57a524d8b"
      },
      "execution_count": null,
      "outputs": [
        {
          "output_type": "stream",
          "name": "stdout",
          "text": [
            "0.9478129385009173\n"
          ]
        }
      ]
    },
    {
      "cell_type": "code",
      "source": [
        "sns.pairplot(data=startup, hue=None, palette=\"crest\")\n",
        "#There is high positivecoreleation between R&D Spend and Profit\n",
        "#There is some positive correlation between Marketing Spend and Profit\n",
        "plt.scatter(x1,x3)"
      ],
      "metadata": {
        "colab": {
          "base_uri": "https://localhost:8080/",
          "height": 743
        },
        "id": "6LAQ0tYH9GB0",
        "outputId": "09f48dfb-26bb-4872-e427-c54e51ea30f9"
      },
      "execution_count": null,
      "outputs": [
        {
          "output_type": "execute_result",
          "data": {
            "text/plain": [
              "<matplotlib.collections.PathCollection at 0x7f5c812023a0>"
            ]
          },
          "metadata": {},
          "execution_count": 132
        },
        {
          "output_type": "display_data",
          "data": {
            "text/plain": [
              "<Figure size 720x720 with 20 Axes>"
            ],
            "image/png": "[encoded data removed]"
          },
          "metadata": {
            "needs_background": "light"
          }
        }
      ]
    },
    {
      "cell_type": "code",
      "source": [
        "plt.scatter(x1,x3)"
      ],
      "metadata": {
        "colab": {
          "base_uri": "https://localhost:8080/",
          "height": 282
        },
        "id": "QYQNS4C4A7rW",
        "outputId": "37e1db1c-2ce4-453f-de49-8340fd0e97e5"
      },
      "execution_count": null,
      "outputs": [
        {
          "output_type": "execute_result",
          "data": {
            "text/plain": [
              "<matplotlib.collections.PathCollection at 0x7fd93008e850>"
            ]
          },
          "metadata": {},
          "execution_count": 151
        },
        {
          "output_type": "display_data",
          "data": {
            "text/plain": [
              "<Figure size 432x288 with 1 Axes>"
            ],
            "image/png": "[encoded data removed]"
          },
          "metadata": {
            "needs_background": "light"
          }
        }
      ]
    },
    {
      "cell_type": "code",
      "source": [
        "sns.regplot(x=x1,y=y,ci=None,data=MLR)\n",
        "#Regression plot between R&D Spend and Profit\n",
        "#THey both have a high correlation"
      ],
      "metadata": {
        "colab": {
          "base_uri": "https://localhost:8080/",
          "height": 285
        },
        "id": "wUoRIMlzBSyo",
        "outputId": "8156ff77-f46d-47c1-ad90-72897db8df6e"
      },
      "execution_count": null,
      "outputs": [
        {
          "output_type": "execute_result",
          "data": {
            "text/plain": [
              "<matplotlib.axes._subplots.AxesSubplot at 0x7fd930274970>"
            ]
          },
          "metadata": {},
          "execution_count": 152
        },
        {
          "output_type": "display_data",
          "data": {
            "text/plain": [
              "<Figure size 432x288 with 1 Axes>"
            ],
            "image/png": "[encoded data removed]"
          },
          "metadata": {
            "needs_background": "light"
          }
        }
      ]
    },
    {
      "cell_type": "code",
      "source": [
        "sns.regplot(x=x2,y=y,ci=None,data=MLR)\n",
        "#Regresion plot for Administration and profit\n",
        "#Shows no correlation"
      ],
      "metadata": {
        "colab": {
          "base_uri": "https://localhost:8080/",
          "height": 285
        },
        "id": "JgFFPCaGBieX",
        "outputId": "fc8ae086-880a-4489-a464-2eced1c31dbe"
      },
      "execution_count": null,
      "outputs": [
        {
          "output_type": "execute_result",
          "data": {
            "text/plain": [
              "<matplotlib.axes._subplots.AxesSubplot at 0x7fd930811be0>"
            ]
          },
          "metadata": {},
          "execution_count": 153
        },
        {
          "output_type": "display_data",
          "data": {
            "text/plain": [
              "<Figure size 432x288 with 1 Axes>"
            ],
            "image/png": "[encoded data removed]"
          },
          "metadata": {
            "needs_background": "light"
          }
        }
      ]
    },
    {
      "cell_type": "code",
      "source": [
        "sns.regplot(x=x3,y=y,ci=None,data=MLR)\n",
        "#Regression Plot for Marketing Spend and Profit\n",
        "#Shows some sort of positive correlation"
      ],
      "metadata": {
        "colab": {
          "base_uri": "https://localhost:8080/",
          "height": 285
        },
        "id": "E0b1lCDfBm9v",
        "outputId": "9523aa7f-1170-4395-9e89-3815f2a2a03b"
      },
      "execution_count": null,
      "outputs": [
        {
          "output_type": "execute_result",
          "data": {
            "text/plain": [
              "<matplotlib.axes._subplots.AxesSubplot at 0x7fd92be0a850>"
            ]
          },
          "metadata": {},
          "execution_count": 154
        },
        {
          "output_type": "display_data",
          "data": {
            "text/plain": [
              "<Figure size 432x288 with 1 Axes>"
            ],
            "image/png": "[encoded data removed]"
          },
          "metadata": {
            "needs_background": "light"
          }
        }
      ]
    },
    {
      "cell_type": "markdown",
      "source": [
        "#For 50_Startup Dataset the best model would be to take R&D spend & Administration as the R-square value for the model is the highest."
      ],
      "metadata": {
        "id": "Olz6s_XYLuWp"
      }
    },
    {
      "cell_type": "code",
      "source": [
        "q=np.ones((len(x1),2),dtype=float)\n",
        "for i in range(0,len(x1)):\n",
        "  q[i][1]=x1[i]\n",
        "  '''q[i][2]=x3[i]'''\n",
        "\n",
        "print(q)"
      ],
      "metadata": {
        "id": "fTf5lkzFLSww"
      },
      "execution_count": null,
      "outputs": []
    },
    {
      "cell_type": "code",
      "source": [
        "beta=np.dot((np.dot(q.transpose(),q)**-1),np.dot(q.transpose(),y))\n",
        "print(beta)\n",
        "a=beta[0][0]\n",
        "b=beta[1][0]\n",
        "\n",
        "\n",
        "\n"
      ],
      "metadata": {
        "colab": {
          "base_uri": "https://localhost:8080/"
        },
        "id": "aOIk2hquOTMW",
        "outputId": "58c9a801-6b38-4e09-bfc8-454829846622"
      },
      "execution_count": null,
      "outputs": [
        {
          "output_type": "stream",
          "name": "stdout",
          "text": [
            "[[2.47953219e+05]\n",
            " [2.85567871e+00]]\n"
          ]
        }
      ]
    }
  ]
}